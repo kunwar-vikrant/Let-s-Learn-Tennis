{
 "cells": [
  {
   "cell_type": "markdown",
   "metadata": {},
   "source": [
    "# Collaboration and Competition\n",
    "\n",
    "---\n",
    "\n",
    "In this notebook, you will learn how to use the Unity ML-Agents environment for the third project of the [Deep Reinforcement Learning Nanodegree](https://www.udacity.com/course/deep-reinforcement-learning-nanodegree--nd893) program.\n",
    "\n",
    "### 1. Start the Environment\n",
    "\n",
    "We begin by importing the necessary packages.  If the code cell below returns an error, please revisit the project instructions to double-check that you have installed [Unity ML-Agents](https://github.com/Unity-Technologies/ml-agents/blob/master/docs/Installation.md) and [NumPy](http://www.numpy.org/)."
   ]
  },
  {
   "cell_type": "code",
   "execution_count": 2,
   "metadata": {},
   "outputs": [],
   "source": [
    "from unityagents import UnityEnvironment\n",
    "import numpy as np\n",
    "from collections import deque\n",
    "import matplotlib.pyplot as plt\n",
    "import numpy as np\n",
    "import torch\n",
    "import time"
   ]
  },
  {
   "cell_type": "markdown",
   "metadata": {},
   "source": [
    "Next, we will start the environment!  **_Before running the code cell below_**, change the `file_name` parameter to match the location of the Unity environment that you downloaded.\n",
    "\n",
    "- **Mac**: `\"path/to/Tennis.app\"`\n",
    "- **Windows** (x86): `\"path/to/Tennis_Windows_x86/Tennis.exe\"`\n",
    "- **Windows** (x86_64): `\"path/to/Tennis_Windows_x86_64/Tennis.exe\"`\n",
    "- **Linux** (x86): `\"path/to/Tennis_Linux/Tennis.x86\"`\n",
    "- **Linux** (x86_64): `\"path/to/Tennis_Linux/Tennis.x86_64\"`\n",
    "- **Linux** (x86, headless): `\"path/to/Tennis_Linux_NoVis/Tennis.x86\"`\n",
    "- **Linux** (x86_64, headless): `\"path/to/Tennis_Linux_NoVis/Tennis.x86_64\"`\n",
    "\n",
    "For instance, if you are using a Mac, then you downloaded `Tennis.app`.  If this file is in the same folder as the notebook, then the line below should appear as follows:\n",
    "```\n",
    "env = UnityEnvironment(file_name=\"Tennis.app\")\n",
    "```"
   ]
  },
  {
   "cell_type": "code",
   "execution_count": 2,
   "metadata": {},
   "outputs": [
    {
     "name": "stderr",
     "output_type": "stream",
     "text": [
      "INFO:unityagents:\n",
      "'Academy' started successfully!\n",
      "Unity Academy name: Academy\n",
      "        Number of Brains: 1\n",
      "        Number of External Brains : 1\n",
      "        Lesson number : 0\n",
      "        Reset Parameters :\n",
      "\t\t\n",
      "Unity brain name: TennisBrain\n",
      "        Number of Visual Observations (per agent): 0\n",
      "        Vector Observation space type: continuous\n",
      "        Vector Observation space size (per agent): 8\n",
      "        Number of stacked Vector Observation: 3\n",
      "        Vector Action space type: continuous\n",
      "        Vector Action space size (per agent): 2\n",
      "        Vector Action descriptions: , \n"
     ]
    }
   ],
   "source": [
    "env = UnityEnvironment(file_name=\"Tennis_Linux/Tennis.x86\")"
   ]
  },
  {
   "cell_type": "markdown",
   "metadata": {},
   "source": [
    "Environments contain **_brains_** which are responsible for deciding the actions of their associated agents. Here we check for the first brain available, and set it as the default brain we will be controlling from Python."
   ]
  },
  {
   "cell_type": "code",
   "execution_count": 3,
   "metadata": {},
   "outputs": [],
   "source": [
    "# get the default brain\n",
    "brain_name = env.brain_names[0]\n",
    "brain = env.brains[brain_name]"
   ]
  },
  {
   "cell_type": "markdown",
   "metadata": {},
   "source": [
    "### 2. Examine the State and Action Spaces\n",
    "\n",
    "In this environment, two agents control rackets to bounce a ball over a net. If an agent hits the ball over the net, it receives a reward of +0.1.  If an agent lets a ball hit the ground or hits the ball out of bounds, it receives a reward of -0.01.  Thus, the goal of each agent is to keep the ball in play.\n",
    "\n",
    "The observation space consists of 8 variables corresponding to the position and velocity of the ball and racket. Two continuous actions are available, corresponding to movement toward (or away from) the net, and jumping. \n",
    "\n",
    "Run the code cell below to print some information about the environment."
   ]
  },
  {
   "cell_type": "code",
   "execution_count": 4,
   "metadata": {},
   "outputs": [
    {
     "name": "stdout",
     "output_type": "stream",
     "text": [
      "Number of agents: 2\n",
      "Size of each action: 2\n",
      "There are 2 agents. Each observes a state with length: 24\n",
      "The state for the first agent looks like: [ 0.          0.          0.          0.          0.          0.\n",
      "  0.          0.          0.          0.          0.          0.\n",
      "  0.          0.          0.          0.         -6.65278625 -1.5\n",
      " -0.          0.          6.83172083  6.         -0.          0.        ]\n"
     ]
    }
   ],
   "source": [
    "# reset the environment\n",
    "env_info = env.reset(train_mode=True)[brain_name]\n",
    "\n",
    "# number of agents \n",
    "num_agents = len(env_info.agents)\n",
    "print('Number of agents:', num_agents)\n",
    "\n",
    "# size of each action\n",
    "action_size = brain.vector_action_space_size\n",
    "print('Size of each action:', action_size)\n",
    "\n",
    "# examine the state space \n",
    "states = env_info.vector_observations\n",
    "state_size = states.shape[1]\n",
    "print('There are {} agents. Each observes a state with length: {}'.format(states.shape[0], state_size))\n",
    "print('The state for the first agent looks like:', states[0])"
   ]
  },
  {
   "cell_type": "markdown",
   "metadata": {},
   "source": [
    "When finished, you can close the environment."
   ]
  },
  {
   "cell_type": "markdown",
   "metadata": {},
   "source": [
    "### 4. Initialize the Agents"
   ]
  },
  {
   "cell_type": "code",
   "execution_count": 5,
   "metadata": {},
   "outputs": [],
   "source": [
    "from multi_ddpg_agent import *\n",
    "# initialize agents\n",
    "agent_one = Agent(state_size, action_size, random_seed=42)\n",
    "agent_two = Agent(state_size, action_size, random_seed=42)"
   ]
  },
  {
   "cell_type": "code",
   "execution_count": 6,
   "metadata": {},
   "outputs": [],
   "source": [
    "def multi_ddpg(n_episodes=5000, max_t=2000, threshold=0.5):\n",
    "\n",
    "    scores_total = []\n",
    "    scores_deque = deque(maxlen=100)\n",
    "    scores_final = []\n",
    "    \n",
    "    for i_episode in range(1, n_episodes+1):\n",
    "        env_info = env.reset(train_mode=True)[brain_name]\n",
    "        # flatten states\n",
    "        states = np.reshape(env_info.vector_observations, (1,48)) \n",
    "        agent_one.reset()                                       \n",
    "        agent_two.reset()\n",
    "        scores = np.zeros(num_agents)\n",
    "        \n",
    "        for t in range(max_t):\n",
    "            # each agent takes actions\n",
    "            action_alpha = agent_one.act(states)                                    \n",
    "            action_beta = agent_two.act(states)\n",
    "            # join the actions from both agents and reshape\n",
    "            actions = np.concatenate((action_alpha, action_beta), axis=0).flatten()\n",
    "            # send actions from both agents to the environment\n",
    "            env_info = env.step(actions)[brain_name]\n",
    "            # flatten next states\n",
    "            next_states = np.reshape(env_info.vector_observations, (1,48))\n",
    "            rewards = env_info.rewards\n",
    "            done = env_info.local_done\n",
    "            \n",
    "            agent_one.step(states, actions, rewards[0], next_states, done, 0)\n",
    "            agent_two.step(states, actions, rewards[1], next_states, done, 1)\n",
    "            \n",
    "            states = next_states\n",
    "            scores += np.max(rewards)    \n",
    "            \n",
    "            if np.any(done):\n",
    "                break \n",
    "        \n",
    "        # mean score on 2 agents\n",
    "        mean_score = np.mean(scores)\n",
    "        scores_total.append(mean_score)\n",
    "        # mean score on 2 agents for 100 episodes\n",
    "        scores_deque.append(mean_score)\n",
    "        # mean score overall for 100 episodes\n",
    "        avg_score = np.mean(scores_deque)\n",
    "        scores_final.append(avg_score)\n",
    "        \n",
    "         # printing statistics\n",
    "        if i_episode % 100 == 0:\n",
    "            print('Episode: {}, Score: {:.4f}, \\tAVG Score: {:.4f}'.format(i_episode, mean_score, avg_score))\n",
    "\n",
    "        if avg_score > threshold:\n",
    "            print('\\nEnvironment succesfully solved in {:d} episodes!\\tAverage Score: {:.2f}'.format(i_episode, avg_score))\n",
    "            \n",
    "            torch.save(agent_one.actor_local.state_dict(), 'checkpoint_actor_one.pth')\n",
    "            torch.save(agent_one.critic_local.state_dict(), 'checkpoint_critic_one.pth')\n",
    "            torch.save(agent_two.actor_local.state_dict(), 'checkpoint_actor_two.pth')\n",
    "            torch.save(agent_two.critic_local.state_dict(), 'checkpoint_critic_two.pth')\n",
    "            \n",
    "            break\n",
    "                \n",
    "    return scores_total, scores_final"
   ]
  },
  {
   "cell_type": "markdown",
   "metadata": {},
   "source": [
    "## 5. Training\n",
    "\n"
   ]
  },
  {
   "cell_type": "code",
   "execution_count": 5,
   "metadata": {},
   "outputs": [
    {
     "name": "stdout",
     "output_type": "stream",
     "text": [
      "Training Started...........\n",
      "Episode: 100, Score: 0.0000, \tAVG Score: 0.0090\n",
      "Episode: 200, Score: 0.0000, \tAVG Score: 0.0290\n",
      "Episode: 300, Score: 0.2000, \tAVG Score: 0.0890\n",
      "Episode: 400, Score: 0.2000, \tAVG Score: 0.0870\n",
      "Episode: 500, Score: 0.1000, \tAVG Score: 0.1410\n",
      "Episode: 600, Score: 0.1000, \tAVG Score: 0.1860\n",
      "Episode: 700, Score: 0.1000, \tAVG Score: 0.1710\n",
      "Episode: 800, Score: 1.0000, \tAVG Score: 0.2960\n",
      "\n",
      "Environment succesfully solved in 892 episodes!\tAverage Score: 0.51\n",
      "\n"
     ]
    }
   ],
   "source": [
    "scores_total, scores_final = multi_ddpg()"
   ]
  },
  {
   "cell_type": "code",
   "execution_count": null,
   "metadata": {},
   "outputs": [],
   "source": []
  },
  {
   "cell_type": "code",
   "execution_count": 3,
   "metadata": {},
   "outputs": [],
   "source": [
    "scores_total = np.load('scores_total.npy')\n",
    "scores_final = np.load('scores_final.npy')"
   ]
  },
  {
   "cell_type": "markdown",
   "metadata": {},
   "source": [
    "## 6. Plots"
   ]
  },
  {
   "cell_type": "code",
   "execution_count": 5,
   "metadata": {},
   "outputs": [
    {
     "data": {
      "image/png": "[encoded data removed]",
      "text/plain": [
       "<Figure size 864x576 with 1 Axes>"
      ]
     },
     "metadata": {
      "needs_background": "light"
     },
     "output_type": "display_data"
    }
   ],
   "source": [
    "fig = plt.figure(figsize=[12,8])\n",
    "ax = fig.add_subplot(111)\n",
    "\n",
    "plt.plot(np.arange(1, len(scores_total)+1), scores_total, 'g', label='Score')\n",
    "plt.ylabel('Score')\n",
    "plt.xlabel('Episode')\n",
    "plt.title('Episode V/S Score')\n",
    "plt.legend(loc='upper right');\n",
    "plt.show()"
   ]
  },
  {
   "cell_type": "code",
   "execution_count": null,
   "metadata": {},
   "outputs": [],
   "source": []
  }
 ],
 "metadata": {
  "kernelspec": {
   "display_name": "drlnd",
   "language": "python",
   "name": "drlnd"
  },
  "language_info": {
   "codemirror_mode": {
    "name": "ipython",
    "version": 3
   },
   "file_extension": ".py",
   "mimetype": "text/x-python",
   "name": "python",
   "nbconvert_exporter": "python",
   "pygments_lexer": "ipython3",
   "version": "3.6.10"
  }
 },
 "nbformat": 4,
 "nbformat_minor": 2
}
